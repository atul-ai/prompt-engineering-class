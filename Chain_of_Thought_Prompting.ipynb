{
  "nbformat": 4,
  "nbformat_minor": 0,
  "metadata": {
    "colab": {
      "provenance": [],
      "authorship_tag": "ABX9TyOeh1mHeldF3mhd/0cSkG/v",
      "include_colab_link": true
    },
    "kernelspec": {
      "name": "python3",
      "display_name": "Python 3"
    },
    "language_info": {
      "name": "python"
    }
  },
  "cells": [
    {
      "cell_type": "markdown",
      "metadata": {
        "id": "view-in-github",
        "colab_type": "text"
      },
      "source": [
        "<a href=\"https://colab.research.google.com/github/atul-ai/prompt-engineering-class/blob/main/Chain_of_Thought_Prompting.ipynb\" target=\"_parent\"><img src=\"https://colab.research.google.com/assets/colab-badge.svg\" alt=\"Open In Colab\"/></a>"
      ]
    },
    {
      "cell_type": "markdown",
      "source": [
        "# Chain of Thought Prompting"
      ],
      "metadata": {
        "id": "0zaZxWhSlye1"
      }
    },
    {
      "cell_type": "markdown",
      "source": [
        "## Initialize\n",
        "Initiate the model and get things ready"
      ],
      "metadata": {
        "id": "Be7rN8iOmav_"
      }
    },
    {
      "cell_type": "code",
      "execution_count": null,
      "metadata": {
        "id": "IbKxwNTdlw9B",
        "colab": {
          "base_uri": "https://localhost:8080/"
        },
        "outputId": "61a90ff5-7989-4ad9-a4f0-ee3c7fdf3c54",
        "collapsed": true
      },
      "outputs": [
        {
          "output_type": "stream",
          "name": "stdout",
          "text": [
            "Requirement already satisfied: langchain in /usr/local/lib/python3.10/dist-packages (0.2.14)\n",
            "Requirement already satisfied: groq in /usr/local/lib/python3.10/dist-packages (0.9.0)\n",
            "Requirement already satisfied: PyYAML>=5.3 in /usr/local/lib/python3.10/dist-packages (from langchain) (6.0.2)\n",
            "Requirement already satisfied: SQLAlchemy<3,>=1.4 in /usr/local/lib/python3.10/dist-packages (from langchain) (2.0.32)\n",
            "Requirement already satisfied: aiohttp<4.0.0,>=3.8.3 in /usr/local/lib/python3.10/dist-packages (from langchain) (3.10.3)\n",
            "Requirement already satisfied: async-timeout<5.0.0,>=4.0.0 in /usr/local/lib/python3.10/dist-packages (from langchain) (4.0.3)\n",
            "Requirement already satisfied: langchain-core<0.3.0,>=0.2.32 in /usr/local/lib/python3.10/dist-packages (from langchain) (0.2.33)\n",
            "Requirement already satisfied: langchain-text-splitters<0.3.0,>=0.2.0 in /usr/local/lib/python3.10/dist-packages (from langchain) (0.2.2)\n",
            "Requirement already satisfied: langsmith<0.2.0,>=0.1.17 in /usr/local/lib/python3.10/dist-packages (from langchain) (0.1.100)\n",
            "Requirement already satisfied: numpy<2,>=1 in /usr/local/lib/python3.10/dist-packages (from langchain) (1.26.4)\n",
            "Requirement already satisfied: pydantic<3,>=1 in /usr/local/lib/python3.10/dist-packages (from langchain) (2.8.2)\n",
            "Requirement already satisfied: requests<3,>=2 in /usr/local/lib/python3.10/dist-packages (from langchain) (2.32.3)\n",
            "Requirement already satisfied: tenacity!=8.4.0,<9.0.0,>=8.1.0 in /usr/local/lib/python3.10/dist-packages (from langchain) (8.5.0)\n",
            "Requirement already satisfied: anyio<5,>=3.5.0 in /usr/local/lib/python3.10/dist-packages (from groq) (3.7.1)\n",
            "Requirement already satisfied: distro<2,>=1.7.0 in /usr/lib/python3/dist-packages (from groq) (1.7.0)\n",
            "Requirement already satisfied: httpx<1,>=0.23.0 in /usr/local/lib/python3.10/dist-packages (from groq) (0.27.0)\n",
            "Requirement already satisfied: sniffio in /usr/local/lib/python3.10/dist-packages (from groq) (1.3.1)\n",
            "Requirement already satisfied: typing-extensions<5,>=4.7 in /usr/local/lib/python3.10/dist-packages (from groq) (4.12.2)\n",
            "Requirement already satisfied: aiohappyeyeballs>=2.3.0 in /usr/local/lib/python3.10/dist-packages (from aiohttp<4.0.0,>=3.8.3->langchain) (2.3.5)\n",
            "Requirement already satisfied: aiosignal>=1.1.2 in /usr/local/lib/python3.10/dist-packages (from aiohttp<4.0.0,>=3.8.3->langchain) (1.3.1)\n",
            "Requirement already satisfied: attrs>=17.3.0 in /usr/local/lib/python3.10/dist-packages (from aiohttp<4.0.0,>=3.8.3->langchain) (24.2.0)\n",
            "Requirement already satisfied: frozenlist>=1.1.1 in /usr/local/lib/python3.10/dist-packages (from aiohttp<4.0.0,>=3.8.3->langchain) (1.4.1)\n",
            "Requirement already satisfied: multidict<7.0,>=4.5 in /usr/local/lib/python3.10/dist-packages (from aiohttp<4.0.0,>=3.8.3->langchain) (6.0.5)\n",
            "Requirement already satisfied: yarl<2.0,>=1.0 in /usr/local/lib/python3.10/dist-packages (from aiohttp<4.0.0,>=3.8.3->langchain) (1.9.4)\n",
            "Requirement already satisfied: idna>=2.8 in /usr/local/lib/python3.10/dist-packages (from anyio<5,>=3.5.0->groq) (3.7)\n",
            "Requirement already satisfied: exceptiongroup in /usr/local/lib/python3.10/dist-packages (from anyio<5,>=3.5.0->groq) (1.2.2)\n",
            "Requirement already satisfied: certifi in /usr/local/lib/python3.10/dist-packages (from httpx<1,>=0.23.0->groq) (2024.7.4)\n",
            "Requirement already satisfied: httpcore==1.* in /usr/local/lib/python3.10/dist-packages (from httpx<1,>=0.23.0->groq) (1.0.5)\n",
            "Requirement already satisfied: h11<0.15,>=0.13 in /usr/local/lib/python3.10/dist-packages (from httpcore==1.*->httpx<1,>=0.23.0->groq) (0.14.0)\n",
            "Requirement already satisfied: jsonpatch<2.0,>=1.33 in /usr/local/lib/python3.10/dist-packages (from langchain-core<0.3.0,>=0.2.32->langchain) (1.33)\n",
            "Requirement already satisfied: packaging<25,>=23.2 in /usr/local/lib/python3.10/dist-packages (from langchain-core<0.3.0,>=0.2.32->langchain) (24.1)\n",
            "Requirement already satisfied: orjson<4.0.0,>=3.9.14 in /usr/local/lib/python3.10/dist-packages (from langsmith<0.2.0,>=0.1.17->langchain) (3.10.7)\n",
            "Requirement already satisfied: annotated-types>=0.4.0 in /usr/local/lib/python3.10/dist-packages (from pydantic<3,>=1->langchain) (0.7.0)\n",
            "Requirement already satisfied: pydantic-core==2.20.1 in /usr/local/lib/python3.10/dist-packages (from pydantic<3,>=1->langchain) (2.20.1)\n",
            "Requirement already satisfied: charset-normalizer<4,>=2 in /usr/local/lib/python3.10/dist-packages (from requests<3,>=2->langchain) (3.3.2)\n",
            "Requirement already satisfied: urllib3<3,>=1.21.1 in /usr/local/lib/python3.10/dist-packages (from requests<3,>=2->langchain) (2.0.7)\n",
            "Requirement already satisfied: greenlet!=0.4.17 in /usr/local/lib/python3.10/dist-packages (from SQLAlchemy<3,>=1.4->langchain) (3.0.3)\n",
            "Requirement already satisfied: jsonpointer>=1.9 in /usr/local/lib/python3.10/dist-packages (from jsonpatch<2.0,>=1.33->langchain-core<0.3.0,>=0.2.32->langchain) (3.0.0)\n",
            "Requirement already satisfied: langchain-groq in /usr/local/lib/python3.10/dist-packages (0.1.9)\n",
            "Requirement already satisfied: groq in /usr/local/lib/python3.10/dist-packages (0.9.0)\n",
            "Requirement already satisfied: langchain-core<0.3.0,>=0.2.26 in /usr/local/lib/python3.10/dist-packages (from langchain-groq) (0.2.33)\n",
            "Requirement already satisfied: anyio<5,>=3.5.0 in /usr/local/lib/python3.10/dist-packages (from groq) (3.7.1)\n",
            "Requirement already satisfied: distro<2,>=1.7.0 in /usr/lib/python3/dist-packages (from groq) (1.7.0)\n",
            "Requirement already satisfied: httpx<1,>=0.23.0 in /usr/local/lib/python3.10/dist-packages (from groq) (0.27.0)\n",
            "Requirement already satisfied: pydantic<3,>=1.9.0 in /usr/local/lib/python3.10/dist-packages (from groq) (2.8.2)\n",
            "Requirement already satisfied: sniffio in /usr/local/lib/python3.10/dist-packages (from groq) (1.3.1)\n",
            "Requirement already satisfied: typing-extensions<5,>=4.7 in /usr/local/lib/python3.10/dist-packages (from groq) (4.12.2)\n",
            "Requirement already satisfied: idna>=2.8 in /usr/local/lib/python3.10/dist-packages (from anyio<5,>=3.5.0->groq) (3.7)\n",
            "Requirement already satisfied: exceptiongroup in /usr/local/lib/python3.10/dist-packages (from anyio<5,>=3.5.0->groq) (1.2.2)\n",
            "Requirement already satisfied: certifi in /usr/local/lib/python3.10/dist-packages (from httpx<1,>=0.23.0->groq) (2024.7.4)\n",
            "Requirement already satisfied: httpcore==1.* in /usr/local/lib/python3.10/dist-packages (from httpx<1,>=0.23.0->groq) (1.0.5)\n",
            "Requirement already satisfied: h11<0.15,>=0.13 in /usr/local/lib/python3.10/dist-packages (from httpcore==1.*->httpx<1,>=0.23.0->groq) (0.14.0)\n",
            "Requirement already satisfied: PyYAML>=5.3 in /usr/local/lib/python3.10/dist-packages (from langchain-core<0.3.0,>=0.2.26->langchain-groq) (6.0.2)\n",
            "Requirement already satisfied: jsonpatch<2.0,>=1.33 in /usr/local/lib/python3.10/dist-packages (from langchain-core<0.3.0,>=0.2.26->langchain-groq) (1.33)\n",
            "Requirement already satisfied: langsmith<0.2.0,>=0.1.75 in /usr/local/lib/python3.10/dist-packages (from langchain-core<0.3.0,>=0.2.26->langchain-groq) (0.1.100)\n",
            "Requirement already satisfied: packaging<25,>=23.2 in /usr/local/lib/python3.10/dist-packages (from langchain-core<0.3.0,>=0.2.26->langchain-groq) (24.1)\n",
            "Requirement already satisfied: tenacity!=8.4.0,<9.0.0,>=8.1.0 in /usr/local/lib/python3.10/dist-packages (from langchain-core<0.3.0,>=0.2.26->langchain-groq) (8.5.0)\n",
            "Requirement already satisfied: annotated-types>=0.4.0 in /usr/local/lib/python3.10/dist-packages (from pydantic<3,>=1.9.0->groq) (0.7.0)\n",
            "Requirement already satisfied: pydantic-core==2.20.1 in /usr/local/lib/python3.10/dist-packages (from pydantic<3,>=1.9.0->groq) (2.20.1)\n",
            "Requirement already satisfied: jsonpointer>=1.9 in /usr/local/lib/python3.10/dist-packages (from jsonpatch<2.0,>=1.33->langchain-core<0.3.0,>=0.2.26->langchain-groq) (3.0.0)\n",
            "Requirement already satisfied: orjson<4.0.0,>=3.9.14 in /usr/local/lib/python3.10/dist-packages (from langsmith<0.2.0,>=0.1.75->langchain-core<0.3.0,>=0.2.26->langchain-groq) (3.10.7)\n",
            "Requirement already satisfied: requests<3,>=2 in /usr/local/lib/python3.10/dist-packages (from langsmith<0.2.0,>=0.1.75->langchain-core<0.3.0,>=0.2.26->langchain-groq) (2.32.3)\n",
            "Requirement already satisfied: charset-normalizer<4,>=2 in /usr/local/lib/python3.10/dist-packages (from requests<3,>=2->langsmith<0.2.0,>=0.1.75->langchain-core<0.3.0,>=0.2.26->langchain-groq) (3.3.2)\n",
            "Requirement already satisfied: urllib3<3,>=1.21.1 in /usr/local/lib/python3.10/dist-packages (from requests<3,>=2->langsmith<0.2.0,>=0.1.75->langchain-core<0.3.0,>=0.2.26->langchain-groq) (2.0.7)\n"
          ]
        }
      ],
      "source": [
        "!pip install langchain groq\n",
        "!pip install langchain-groq groq"
      ]
    },
    {
      "cell_type": "code",
      "source": [
        "#Basic code to initialize the Groq API and setup the LLM.\n",
        "from langchain_groq import ChatGroq\n",
        "from langchain.chains import LLMChain\n",
        "import os\n",
        "\n",
        "# Set your Groq API key\n",
        "os.environ[\"GROQ_API_KEY\"] = \"\"\n",
        "\n",
        "# Initialize the Groq LLM\n",
        "llm = ChatGroq(model_name=\"mixtral-8x7b-32768\")"
      ],
      "metadata": {
        "id": "ztLDTcoqmaBy"
      },
      "execution_count": null,
      "outputs": []
    },
    {
      "cell_type": "markdown",
      "source": [
        "## Simple Prompt\n",
        "\n",
        "Will this work?"
      ],
      "metadata": {
        "id": "C_bLUjfWpjXL"
      }
    },
    {
      "cell_type": "code",
      "source": [
        "from langchain_core.messages import AIMessage, HumanMessage, SystemMessage\n",
        "from langchain.prompts import Prompt\n",
        "\n",
        "#Setup HumanMessage, SystemMessage for simple prompt.\n",
        "\n",
        "example = \"\"\"\n",
        "Question: Roger has 5 tennis balls. He buys 2 more cans of tennis balls. Each can has 3 tennis balls. How many tennis balls does he have now?\n",
        "Answer: 11.\n",
        "\n",
        "Question: The school has 23 triangles. If they used 9 for class, and bought 6 more, how many traingles do they have?\n",
        "Answer:\n",
        "\"\"\"\n",
        "human_message = HumanMessage(content=example)\n",
        "system_message = SystemMessage(content=\"You are helpful assistant.\")\n",
        "\n",
        "\n",
        "new_prompt = (system_message + human_message)\n",
        "\n",
        "print (f\"Prompt: {new_prompt}\")\n",
        "\n",
        "chain = LLMChain(llm=llm, prompt=new_prompt)\n",
        "reponse = chain.run({})\n",
        "print(f\"Response: {reponse}\")"
      ],
      "metadata": {
        "id": "1Z1WF2o_nilv",
        "colab": {
          "base_uri": "https://localhost:8080/"
        },
        "outputId": "9371a275-4ab6-430a-c02b-862faa2cf83a"
      },
      "execution_count": null,
      "outputs": [
        {
          "output_type": "stream",
          "name": "stdout",
          "text": [
            "Prompt: input_variables=[] messages=[SystemMessage(content='You are helpful assistant.'), HumanMessage(content='\\nQuestion: Roger has 5 tennis balls. He buys 2 more cans of tennis balls. Each can has 3 tennis balls. How many tennis balls does he have now?\\nAnswer: 11.\\n\\nQuestion: The school has 23 triangles. If they used 9 for class, and bought 6 more, how many traingles do they have?\\nAnswer:\\n')]\n",
            "Response: To find out how many triangles the school has now, we need to add the number of triangles they started with to the number they bought, and then subtract the number they used in class.\n",
            "\n",
            "So, the school had 23 triangles to start with. They used 9 in class, leaving them with 23 - 9 = 14 triangles. Then, they bought 6 more triangles, so the total number of triangles they have now is 14 + 6 = 20.\n"
          ]
        }
      ]
    },
    {
      "cell_type": "markdown",
      "source": [
        "So, the school had 23 triangles to start with.\n",
        "\n",
        "They used 9 in class, leaving them with 23 - 9 = 14 triangles.\n",
        "\n",
        "Then, they bought 6 more triangles, so the total number of triangles they have now is 14 + 6 = 20."
      ],
      "metadata": {
        "id": "AGu2GQo17995"
      }
    },
    {
      "cell_type": "markdown",
      "source": [
        "### What?\n",
        "This is working, why?"
      ],
      "metadata": {
        "id": "v6OrrmWVp032"
      }
    },
    {
      "cell_type": "markdown",
      "source": [
        "## Chain of Thought is DEFAULT\n",
        "\n",
        "The trainers of this model seemed to have included for their RLHF / model alignment.\n",
        "\n",
        "For models that do not have that benefit - any of the older models on HuggingFace."
      ],
      "metadata": {
        "id": "d-SnJ7TpqgtW"
      }
    },
    {
      "cell_type": "code",
      "source": [
        "example = \"\"\"\n",
        "Question: You have $50 to spend at the grocery store. You buy milk for $3, bread for $2.50, and apples for $4. How much money do you have left?\n",
        "Answer:\n",
        "\"\"\"\n",
        "\n",
        "human_message = HumanMessage(content=example)\n",
        "system_message = SystemMessage(content=\"You are helpful assistant.\")\n",
        "\n",
        "\n",
        "cot_prompt = (system_message + human_message)\n",
        "\n",
        "print (f\"Prompt: {cot_prompt}\")\n",
        "\n",
        "chain = LLMChain(llm=llm, prompt=cot_prompt)\n",
        "reponse = chain.run({})\n",
        "print(f\"Response: {reponse}\")"
      ],
      "metadata": {
        "colab": {
          "base_uri": "https://localhost:8080/"
        },
        "id": "DxAG2hKMthMU",
        "outputId": "db732ddf-d249-47b9-ec9d-090543066cb4"
      },
      "execution_count": null,
      "outputs": [
        {
          "output_type": "stream",
          "name": "stdout",
          "text": [
            "Prompt: input_variables=[] messages=[SystemMessage(content='You are helpful assistant.'), HumanMessage(content='\\nQuestion: You have $50 to spend at the grocery store. You buy milk for $3, bread for $2.50, and apples for $4. How much money do you have left?\\nAnswer:\\n')]\n",
            "Response: To find out how much money you have left, you need to subtract the cost of the milk, bread, and apples from the $50 you started with:\n",
            "\n",
            "$50 (total amount) - $3 (milk) - $2.50 (bread) - $4 (apples) = $40.50\n",
            "\n",
            "So, you have $40.50 left after buying the milk, bread, and apples.\n"
          ]
        }
      ]
    },
    {
      "cell_type": "code",
      "source": [
        "example = \"\"\"\n",
        "Question: You have $100 to spend on a new outfit. You find a shirt you love for $45 and a pair of pants for $35. You also see a hat you like for $20.\n",
        "How can you determine if you can afford all three items?\n",
        "\n",
        "Answer: To solve this, you'll need to:\n",
        "\n",
        "Add the cost of the shirt and pants: $45 + $35 = $80\n",
        "Subtract the total cost of the shirt and pants from your budget: $100 - $80 = $20\n",
        "Compare the remaining amount to the cost of the hat: $20 is equal to the cost of the hat.\n",
        "\n",
        "Question: You have $50 to spend at the grocery store. You buy milk for $3, bread for $2.50, and apples for $4. How much money do you have left?\n",
        "Answer:\n",
        "\"\"\"\n",
        "\n",
        "human_message = HumanMessage(content=example)\n",
        "system_message = SystemMessage(content=\"You are helpful assistant.\")\n",
        "\n",
        "\n",
        "cot_prompt = (system_message + human_message)\n",
        "\n",
        "print (f\"Prompt: {cot_prompt}\")\n",
        "\n",
        "chain = LLMChain(llm=llm, prompt=cot_prompt)\n",
        "reponse = chain.run({})\n",
        "print(f\"Response: {reponse}\")\n"
      ],
      "metadata": {
        "colab": {
          "base_uri": "https://localhost:8080/"
        },
        "id": "VaSnZoJqqIh7",
        "outputId": "24b6b157-6258-45aa-b791-c74c0a9bdd54"
      },
      "execution_count": null,
      "outputs": [
        {
          "output_type": "stream",
          "name": "stdout",
          "text": [
            "Prompt: input_variables=[] messages=[SystemMessage(content='You are helpful assistant.'), HumanMessage(content=\"\\nQuestion: You have $100 to spend on a new outfit. You find a shirt you love for $45 and a pair of pants for $35. You also see a hat you like for $20.\\nHow can you determine if you can afford all three items?\\n\\nAnswer: To solve this, you'll need to:\\n\\nAdd the cost of the shirt and pants: $45 + $35 = $80\\nSubtract the total cost of the shirt and pants from your budget: $100 - $80 = $20\\nCompare the remaining amount to the cost of the hat: $20 is equal to the cost of the hat.\\n\\nQuestion: You have $50 to spend at the grocery store. You buy milk for $3, bread for $2.50, and apples for $4. How much money do you have left?\\nAnswer:\\n\")]\n",
            "Response: To determine the amount of money left, you should:\n",
            "\n",
            "Add the cost of the milk, bread, and apples: $3 + $2.50 + $4 = $9.50\n",
            "Subtract the total cost of the items from your budget: $50 - $9.50 = $40.50\n",
            "\n",
            "So, you have $40.50 left after buying those items.\n"
          ]
        }
      ]
    },
    {
      "cell_type": "markdown",
      "source": [
        "### Examples to Run\n",
        "#### Vacation Planning\n",
        "Problem: You want to go on a vacation that costs $1,200. You've already saved $750. How much more money do you need to save?\n",
        "#### Restaurant Bill\n",
        "Problem: Your dinner bill at a restaurant is $45. You want to leave a 20% tip. How much should you leave as a tip?\n",
        "\n",
        "#### Car Purchase\n",
        "Problem: You want to buy a car that costs $25,000. You have a down payment of $5,000. If you finance the rest at 3% interest over 5 years, how much will your monthly payments be?\n",
        "\n",
        "#### Household Budget\n",
        "Problem: Your monthly income is $3,000. Your rent is $1,200, utilities are $150, and groceries are $250. How much money do you have left for other expenses?"
      ],
      "metadata": {
        "id": "S0CgWBxNtvX3"
      }
    },
    {
      "cell_type": "markdown",
      "source": [
        "#### How will we do Auto-CoT Prompting?\n",
        "\n",
        "\n",
        "We will see this and Self-Consistent Prompting Next time ..."
      ],
      "metadata": {
        "id": "3pD4D_UVuLQ8"
      }
    }
  ]
}