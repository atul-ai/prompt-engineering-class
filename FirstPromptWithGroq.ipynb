{
  "nbformat": 4,
  "nbformat_minor": 0,
  "metadata": {
    "colab": {
      "provenance": [],
      "authorship_tag": "ABX9TyNvYQvopXlkc351Hz5hhEQH",
      "include_colab_link": true
    },
    "kernelspec": {
      "name": "python3",
      "display_name": "Python 3"
    },
    "language_info": {
      "name": "python"
    }
  },
  "cells": [
    {
      "cell_type": "markdown",
      "metadata": {
        "id": "view-in-github",
        "colab_type": "text"
      },
      "source": [
        "<a href=\"https://colab.research.google.com/github/atul-ai/prompt-engineering-class/blob/main/FirstPromptWithGroq.ipynb\" target=\"_parent\"><img src=\"https://colab.research.google.com/assets/colab-badge.svg\" alt=\"Open In Colab\"/></a>"
      ]
    },
    {
      "cell_type": "markdown",
      "source": [
        "# Install the required components"
      ],
      "metadata": {
        "id": "xNt9uOWIZ332"
      }
    },
    {
      "cell_type": "code",
      "source": [
        "!pip install langchain groq\n",
        "!pip install langchain-groq groq\n"
      ],
      "metadata": {
        "id": "1b9cAsm3U5ZL"
      },
      "execution_count": null,
      "outputs": []
    },
    {
      "cell_type": "markdown",
      "source": [
        "## Write code that connects with Groq LLM and runs this prompt on their service."
      ],
      "metadata": {
        "id": "MwVE6dSkZ-Ty"
      }
    },
    {
      "cell_type": "code",
      "source": [
        "from langchain_groq import ChatGroq\n",
        "from langchain.prompts import PromptTemplate\n",
        "from langchain.chains import LLMChain\n",
        "import os\n",
        "\n",
        "# Set your Groq API key\n",
        "os.environ[\"GROQ_API_KEY\"] = \"your api key\"\n",
        "\n",
        "# Initialize the Groq LLM\n",
        "llm = ChatGroq(model_name=\"mixtral-8x7b-32768\")\n",
        "\n",
        "# Define a prompt template\n",
        "prompt_template = PromptTemplate(\n",
        "    input_variables=[\"topic\"],\n",
        "    template=\"Explain the concept of {topic} in simple terms a high school student can understand.\"\n",
        ")\n",
        "\n",
        "# Create an LLMChain\n",
        "chain = LLMChain(llm=llm, prompt=prompt_template)\n",
        "\n",
        "# Use the chain to generate a response\n",
        "topic = \"time travel\"\n",
        "response = chain.run(topic)\n",
        "\n",
        "print(f\"Explanation of {topic}:\")\n",
        "print(response)"
      ],
      "metadata": {
        "colab": {
          "base_uri": "https://localhost:8080/"
        },
        "id": "kmNL-OSQWEPT",
        "outputId": "4a664f1d-12a0-4a29-a171-5b8e730e83b0"
      },
      "execution_count": 20,
      "outputs": [
        {
          "output_type": "stream",
          "name": "stdout",
          "text": [
            "Explanation of time travel:\n",
            "Time travel is the idea of moving from one point in time to another, just like you can move from one place to another in space. For example, instead of traveling from New York to Los Angeles, you'd be traveling from Monday to Wednesday or from 2021 to 1990.\n",
            "\n",
            "There are two main types of time travel discussed in science fiction and theory:\n",
            "\n",
            "1. Traveling into the future: This could happen naturally, such as when we sleep or when we travel at high speeds (according to Einstein's Theory of Relativity). However, these methods usually only result in very small amounts of time passed.\n",
            "\n",
            "2. Traveling into the past: This is trickier because it would mean changing events that have already happened, which could lead to all sorts of paradoxes and problems. Some theories suggest using wormholes or other exotic physics phenomena to make it possible.\n",
            "\n",
            "It's important to note that time travel remains purely theoretical at this point. While there are many ideas about how it might work, we have no concrete evidence or practical applications yet. But who knows what the future (or past) may hold?\n"
          ]
        }
      ]
    }
  ]
}