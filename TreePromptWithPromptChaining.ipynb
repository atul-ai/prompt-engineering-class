{
  "nbformat": 4,
  "nbformat_minor": 0,
  "metadata": {
    "colab": {
      "provenance": [],
      "collapsed_sections": [
        "0v_6zhtd8VDV",
        "OCW7YMKH9YJ7"
      ],
      "authorship_tag": "ABX9TyOL9O1RUcDicPgqXaYSaxWJ",
      "include_colab_link": true
    },
    "kernelspec": {
      "name": "python3",
      "display_name": "Python 3"
    },
    "language_info": {
      "name": "python"
    }
  },
  "cells": [
    {
      "cell_type": "markdown",
      "metadata": {
        "id": "view-in-github",
        "colab_type": "text"
      },
      "source": [
        "<a href=\"https://colab.research.google.com/github/atul-ai/prompt-engineering-class/blob/main/TreePromptWithPromptChaining.ipynb\" target=\"_parent\"><img src=\"https://colab.research.google.com/assets/colab-badge.svg\" alt=\"Open In Colab\"/></a>"
      ]
    },
    {
      "cell_type": "markdown",
      "source": [
        "# Prompt Chaining & Tree Prompting\n",
        "\n",
        "We will first explore Prompt Chaining and then see an example of Tree Prompting.\n",
        "\n",
        "We will as usual start with basic building block to install LangChain, Groq and initialize the llm."
      ],
      "metadata": {
        "id": "qmljeTqb7xCk"
      }
    },
    {
      "cell_type": "markdown",
      "source": [
        "## Initialization"
      ],
      "metadata": {
        "id": "Ods5GQrS9u4f"
      }
    },
    {
      "cell_type": "code",
      "source": [
        "!pip install langchain groq\n",
        "!pip install langchain-groq groq"
      ],
      "metadata": {
        "colab": {
          "base_uri": "https://localhost:8080/"
        },
        "id": "R24ZU8lU8aaf",
        "outputId": "7071bf92-2122-4e99-8335-5f3870f017d1",
        "collapsed": true
      },
      "execution_count": 1,
      "outputs": [
        {
          "output_type": "stream",
          "name": "stdout",
          "text": [
            "Collecting langchain\n",
            "  Downloading langchain-0.2.14-py3-none-any.whl.metadata (7.1 kB)\n",
            "Collecting groq\n",
            "  Downloading groq-0.9.0-py3-none-any.whl.metadata (13 kB)\n",
            "Requirement already satisfied: PyYAML>=5.3 in /usr/local/lib/python3.10/dist-packages (from langchain) (6.0.2)\n",
            "Requirement already satisfied: SQLAlchemy<3,>=1.4 in /usr/local/lib/python3.10/dist-packages (from langchain) (2.0.32)\n",
            "Requirement already satisfied: aiohttp<4.0.0,>=3.8.3 in /usr/local/lib/python3.10/dist-packages (from langchain) (3.10.5)\n",
            "Requirement already satisfied: async-timeout<5.0.0,>=4.0.0 in /usr/local/lib/python3.10/dist-packages (from langchain) (4.0.3)\n",
            "Collecting langchain-core<0.3.0,>=0.2.32 (from langchain)\n",
            "  Downloading langchain_core-0.2.34-py3-none-any.whl.metadata (6.2 kB)\n",
            "Collecting langchain-text-splitters<0.3.0,>=0.2.0 (from langchain)\n",
            "  Downloading langchain_text_splitters-0.2.2-py3-none-any.whl.metadata (2.1 kB)\n",
            "Collecting langsmith<0.2.0,>=0.1.17 (from langchain)\n",
            "  Downloading langsmith-0.1.104-py3-none-any.whl.metadata (13 kB)\n",
            "Requirement already satisfied: numpy<2,>=1 in /usr/local/lib/python3.10/dist-packages (from langchain) (1.26.4)\n",
            "Requirement already satisfied: pydantic<3,>=1 in /usr/local/lib/python3.10/dist-packages (from langchain) (2.8.2)\n",
            "Requirement already satisfied: requests<3,>=2 in /usr/local/lib/python3.10/dist-packages (from langchain) (2.32.3)\n",
            "Collecting tenacity!=8.4.0,<9.0.0,>=8.1.0 (from langchain)\n",
            "  Downloading tenacity-8.5.0-py3-none-any.whl.metadata (1.2 kB)\n",
            "Requirement already satisfied: anyio<5,>=3.5.0 in /usr/local/lib/python3.10/dist-packages (from groq) (3.7.1)\n",
            "Requirement already satisfied: distro<2,>=1.7.0 in /usr/lib/python3/dist-packages (from groq) (1.7.0)\n",
            "Collecting httpx<1,>=0.23.0 (from groq)\n",
            "  Downloading httpx-0.27.0-py3-none-any.whl.metadata (7.2 kB)\n",
            "Requirement already satisfied: sniffio in /usr/local/lib/python3.10/dist-packages (from groq) (1.3.1)\n",
            "Requirement already satisfied: typing-extensions<5,>=4.7 in /usr/local/lib/python3.10/dist-packages (from groq) (4.12.2)\n",
            "Requirement already satisfied: aiohappyeyeballs>=2.3.0 in /usr/local/lib/python3.10/dist-packages (from aiohttp<4.0.0,>=3.8.3->langchain) (2.4.0)\n",
            "Requirement already satisfied: aiosignal>=1.1.2 in /usr/local/lib/python3.10/dist-packages (from aiohttp<4.0.0,>=3.8.3->langchain) (1.3.1)\n",
            "Requirement already satisfied: attrs>=17.3.0 in /usr/local/lib/python3.10/dist-packages (from aiohttp<4.0.0,>=3.8.3->langchain) (24.2.0)\n",
            "Requirement already satisfied: frozenlist>=1.1.1 in /usr/local/lib/python3.10/dist-packages (from aiohttp<4.0.0,>=3.8.3->langchain) (1.4.1)\n",
            "Requirement already satisfied: multidict<7.0,>=4.5 in /usr/local/lib/python3.10/dist-packages (from aiohttp<4.0.0,>=3.8.3->langchain) (6.0.5)\n",
            "Requirement already satisfied: yarl<2.0,>=1.0 in /usr/local/lib/python3.10/dist-packages (from aiohttp<4.0.0,>=3.8.3->langchain) (1.9.4)\n",
            "Requirement already satisfied: idna>=2.8 in /usr/local/lib/python3.10/dist-packages (from anyio<5,>=3.5.0->groq) (3.7)\n",
            "Requirement already satisfied: exceptiongroup in /usr/local/lib/python3.10/dist-packages (from anyio<5,>=3.5.0->groq) (1.2.2)\n",
            "Requirement already satisfied: certifi in /usr/local/lib/python3.10/dist-packages (from httpx<1,>=0.23.0->groq) (2024.7.4)\n",
            "Collecting httpcore==1.* (from httpx<1,>=0.23.0->groq)\n",
            "  Downloading httpcore-1.0.5-py3-none-any.whl.metadata (20 kB)\n",
            "Collecting h11<0.15,>=0.13 (from httpcore==1.*->httpx<1,>=0.23.0->groq)\n",
            "  Downloading h11-0.14.0-py3-none-any.whl.metadata (8.2 kB)\n",
            "Collecting jsonpatch<2.0,>=1.33 (from langchain-core<0.3.0,>=0.2.32->langchain)\n",
            "  Downloading jsonpatch-1.33-py2.py3-none-any.whl.metadata (3.0 kB)\n",
            "Requirement already satisfied: packaging<25,>=23.2 in /usr/local/lib/python3.10/dist-packages (from langchain-core<0.3.0,>=0.2.32->langchain) (24.1)\n",
            "Collecting orjson<4.0.0,>=3.9.14 (from langsmith<0.2.0,>=0.1.17->langchain)\n",
            "  Downloading orjson-3.10.7-cp310-cp310-manylinux_2_17_x86_64.manylinux2014_x86_64.whl.metadata (50 kB)\n",
            "\u001b[2K     \u001b[90m━━━━━━━━━━━━━━━━━━━━━━━━━━━━━━━━━━━━━━━━\u001b[0m \u001b[32m50.4/50.4 kB\u001b[0m \u001b[31m1.3 MB/s\u001b[0m eta \u001b[36m0:00:00\u001b[0m\n",
            "\u001b[?25hRequirement already satisfied: annotated-types>=0.4.0 in /usr/local/lib/python3.10/dist-packages (from pydantic<3,>=1->langchain) (0.7.0)\n",
            "Requirement already satisfied: pydantic-core==2.20.1 in /usr/local/lib/python3.10/dist-packages (from pydantic<3,>=1->langchain) (2.20.1)\n",
            "Requirement already satisfied: charset-normalizer<4,>=2 in /usr/local/lib/python3.10/dist-packages (from requests<3,>=2->langchain) (3.3.2)\n",
            "Requirement already satisfied: urllib3<3,>=1.21.1 in /usr/local/lib/python3.10/dist-packages (from requests<3,>=2->langchain) (2.0.7)\n",
            "Requirement already satisfied: greenlet!=0.4.17 in /usr/local/lib/python3.10/dist-packages (from SQLAlchemy<3,>=1.4->langchain) (3.0.3)\n",
            "Collecting jsonpointer>=1.9 (from jsonpatch<2.0,>=1.33->langchain-core<0.3.0,>=0.2.32->langchain)\n",
            "  Downloading jsonpointer-3.0.0-py2.py3-none-any.whl.metadata (2.3 kB)\n",
            "Downloading langchain-0.2.14-py3-none-any.whl (997 kB)\n",
            "\u001b[2K   \u001b[90m━━━━━━━━━━━━━━━━━━━━━━━━━━━━━━━━━━━━━━━━\u001b[0m \u001b[32m997.8/997.8 kB\u001b[0m \u001b[31m19.9 MB/s\u001b[0m eta \u001b[36m0:00:00\u001b[0m\n",
            "\u001b[?25hDownloading groq-0.9.0-py3-none-any.whl (103 kB)\n",
            "\u001b[2K   \u001b[90m━━━━━━━━━━━━━━━━━━━━━━━━━━━━━━━━━━━━━━━━\u001b[0m \u001b[32m103.5/103.5 kB\u001b[0m \u001b[31m6.9 MB/s\u001b[0m eta \u001b[36m0:00:00\u001b[0m\n",
            "\u001b[?25hDownloading httpx-0.27.0-py3-none-any.whl (75 kB)\n",
            "\u001b[2K   \u001b[90m━━━━━━━━━━━━━━━━━━━━━━━━━━━━━━━━━━━━━━━━\u001b[0m \u001b[32m75.6/75.6 kB\u001b[0m \u001b[31m5.3 MB/s\u001b[0m eta \u001b[36m0:00:00\u001b[0m\n",
            "\u001b[?25hDownloading httpcore-1.0.5-py3-none-any.whl (77 kB)\n",
            "\u001b[2K   \u001b[90m━━━━━━━━━━━━━━━━━━━━━━━━━━━━━━━━━━━━━━━━\u001b[0m \u001b[32m77.9/77.9 kB\u001b[0m \u001b[31m5.7 MB/s\u001b[0m eta \u001b[36m0:00:00\u001b[0m\n",
            "\u001b[?25hDownloading langchain_core-0.2.34-py3-none-any.whl (393 kB)\n",
            "\u001b[2K   \u001b[90m━━━━━━━━━━━━━━━━━━━━━━━━━━━━━━━━━━━━━━━━\u001b[0m \u001b[32m393.9/393.9 kB\u001b[0m \u001b[31m22.5 MB/s\u001b[0m eta \u001b[36m0:00:00\u001b[0m\n",
            "\u001b[?25hDownloading langchain_text_splitters-0.2.2-py3-none-any.whl (25 kB)\n",
            "Downloading langsmith-0.1.104-py3-none-any.whl (149 kB)\n",
            "\u001b[2K   \u001b[90m━━━━━━━━━━━━━━━━━━━━━━━━━━━━━━━━━━━━━━━━\u001b[0m \u001b[32m149.1/149.1 kB\u001b[0m \u001b[31m11.9 MB/s\u001b[0m eta \u001b[36m0:00:00\u001b[0m\n",
            "\u001b[?25hDownloading tenacity-8.5.0-py3-none-any.whl (28 kB)\n",
            "Downloading jsonpatch-1.33-py2.py3-none-any.whl (12 kB)\n",
            "Downloading orjson-3.10.7-cp310-cp310-manylinux_2_17_x86_64.manylinux2014_x86_64.whl (141 kB)\n",
            "\u001b[2K   \u001b[90m━━━━━━━━━━━━━━━━━━━━━━━━━━━━━━━━━━━━━━━━\u001b[0m \u001b[32m141.9/141.9 kB\u001b[0m \u001b[31m10.7 MB/s\u001b[0m eta \u001b[36m0:00:00\u001b[0m\n",
            "\u001b[?25hDownloading h11-0.14.0-py3-none-any.whl (58 kB)\n",
            "\u001b[2K   \u001b[90m━━━━━━━━━━━━━━━━━━━━━━━━━━━━━━━━━━━━━━━━\u001b[0m \u001b[32m58.3/58.3 kB\u001b[0m \u001b[31m4.3 MB/s\u001b[0m eta \u001b[36m0:00:00\u001b[0m\n",
            "\u001b[?25hDownloading jsonpointer-3.0.0-py2.py3-none-any.whl (7.6 kB)\n",
            "Installing collected packages: tenacity, orjson, jsonpointer, h11, jsonpatch, httpcore, httpx, langsmith, groq, langchain-core, langchain-text-splitters, langchain\n",
            "  Attempting uninstall: tenacity\n",
            "    Found existing installation: tenacity 9.0.0\n",
            "    Uninstalling tenacity-9.0.0:\n",
            "      Successfully uninstalled tenacity-9.0.0\n",
            "Successfully installed groq-0.9.0 h11-0.14.0 httpcore-1.0.5 httpx-0.27.0 jsonpatch-1.33 jsonpointer-3.0.0 langchain-0.2.14 langchain-core-0.2.34 langchain-text-splitters-0.2.2 langsmith-0.1.104 orjson-3.10.7 tenacity-8.5.0\n",
            "Collecting langchain-groq\n",
            "  Downloading langchain_groq-0.1.9-py3-none-any.whl.metadata (2.9 kB)\n",
            "Requirement already satisfied: groq in /usr/local/lib/python3.10/dist-packages (0.9.0)\n",
            "Requirement already satisfied: langchain-core<0.3.0,>=0.2.26 in /usr/local/lib/python3.10/dist-packages (from langchain-groq) (0.2.34)\n",
            "Requirement already satisfied: anyio<5,>=3.5.0 in /usr/local/lib/python3.10/dist-packages (from groq) (3.7.1)\n",
            "Requirement already satisfied: distro<2,>=1.7.0 in /usr/lib/python3/dist-packages (from groq) (1.7.0)\n",
            "Requirement already satisfied: httpx<1,>=0.23.0 in /usr/local/lib/python3.10/dist-packages (from groq) (0.27.0)\n",
            "Requirement already satisfied: pydantic<3,>=1.9.0 in /usr/local/lib/python3.10/dist-packages (from groq) (2.8.2)\n",
            "Requirement already satisfied: sniffio in /usr/local/lib/python3.10/dist-packages (from groq) (1.3.1)\n",
            "Requirement already satisfied: typing-extensions<5,>=4.7 in /usr/local/lib/python3.10/dist-packages (from groq) (4.12.2)\n",
            "Requirement already satisfied: idna>=2.8 in /usr/local/lib/python3.10/dist-packages (from anyio<5,>=3.5.0->groq) (3.7)\n",
            "Requirement already satisfied: exceptiongroup in /usr/local/lib/python3.10/dist-packages (from anyio<5,>=3.5.0->groq) (1.2.2)\n",
            "Requirement already satisfied: certifi in /usr/local/lib/python3.10/dist-packages (from httpx<1,>=0.23.0->groq) (2024.7.4)\n",
            "Requirement already satisfied: httpcore==1.* in /usr/local/lib/python3.10/dist-packages (from httpx<1,>=0.23.0->groq) (1.0.5)\n",
            "Requirement already satisfied: h11<0.15,>=0.13 in /usr/local/lib/python3.10/dist-packages (from httpcore==1.*->httpx<1,>=0.23.0->groq) (0.14.0)\n",
            "Requirement already satisfied: PyYAML>=5.3 in /usr/local/lib/python3.10/dist-packages (from langchain-core<0.3.0,>=0.2.26->langchain-groq) (6.0.2)\n",
            "Requirement already satisfied: jsonpatch<2.0,>=1.33 in /usr/local/lib/python3.10/dist-packages (from langchain-core<0.3.0,>=0.2.26->langchain-groq) (1.33)\n",
            "Requirement already satisfied: langsmith<0.2.0,>=0.1.75 in /usr/local/lib/python3.10/dist-packages (from langchain-core<0.3.0,>=0.2.26->langchain-groq) (0.1.104)\n",
            "Requirement already satisfied: packaging<25,>=23.2 in /usr/local/lib/python3.10/dist-packages (from langchain-core<0.3.0,>=0.2.26->langchain-groq) (24.1)\n",
            "Requirement already satisfied: tenacity!=8.4.0,<9.0.0,>=8.1.0 in /usr/local/lib/python3.10/dist-packages (from langchain-core<0.3.0,>=0.2.26->langchain-groq) (8.5.0)\n",
            "Requirement already satisfied: annotated-types>=0.4.0 in /usr/local/lib/python3.10/dist-packages (from pydantic<3,>=1.9.0->groq) (0.7.0)\n",
            "Requirement already satisfied: pydantic-core==2.20.1 in /usr/local/lib/python3.10/dist-packages (from pydantic<3,>=1.9.0->groq) (2.20.1)\n",
            "Requirement already satisfied: jsonpointer>=1.9 in /usr/local/lib/python3.10/dist-packages (from jsonpatch<2.0,>=1.33->langchain-core<0.3.0,>=0.2.26->langchain-groq) (3.0.0)\n",
            "Requirement already satisfied: orjson<4.0.0,>=3.9.14 in /usr/local/lib/python3.10/dist-packages (from langsmith<0.2.0,>=0.1.75->langchain-core<0.3.0,>=0.2.26->langchain-groq) (3.10.7)\n",
            "Requirement already satisfied: requests<3,>=2 in /usr/local/lib/python3.10/dist-packages (from langsmith<0.2.0,>=0.1.75->langchain-core<0.3.0,>=0.2.26->langchain-groq) (2.32.3)\n",
            "Requirement already satisfied: charset-normalizer<4,>=2 in /usr/local/lib/python3.10/dist-packages (from requests<3,>=2->langsmith<0.2.0,>=0.1.75->langchain-core<0.3.0,>=0.2.26->langchain-groq) (3.3.2)\n",
            "Requirement already satisfied: urllib3<3,>=1.21.1 in /usr/local/lib/python3.10/dist-packages (from requests<3,>=2->langsmith<0.2.0,>=0.1.75->langchain-core<0.3.0,>=0.2.26->langchain-groq) (2.0.7)\n",
            "Downloading langchain_groq-0.1.9-py3-none-any.whl (14 kB)\n",
            "Installing collected packages: langchain-groq\n",
            "Successfully installed langchain-groq-0.1.9\n"
          ]
        }
      ]
    },
    {
      "cell_type": "code",
      "source": [
        "#Basic code to initialize the Groq API and setup the LLM.\n",
        "from langchain_groq import ChatGroq\n",
        "from langchain.chains import LLMChain\n",
        "import os\n",
        "\n",
        "# Set your Groq API key\n",
        "os.environ[\"GROQ_API_KEY\"] = \"\"\n",
        "\n",
        "# Initialize the Groq LLM\n",
        "llm = ChatGroq(model_name=\"mixtral-8x7b-32768\")"
      ],
      "metadata": {
        "id": "5yrKM7Ck8lAs"
      },
      "execution_count": 2,
      "outputs": []
    },
    {
      "cell_type": "markdown",
      "source": [
        "## Prompt Chaining"
      ],
      "metadata": {
        "id": "0v_6zhtd8VDV"
      }
    },
    {
      "cell_type": "markdown",
      "source": [
        "We create a simple chain of three prompts, we write an introduction, provide three points about the introduction, expand on each of the points."
      ],
      "metadata": {
        "id": "-F_3N-u680CP"
      }
    },
    {
      "cell_type": "code",
      "source": [
        "from langchain import PromptTemplate, LLMChain\n",
        "from langchain.chains import SimpleSequentialChain\n",
        "\n",
        "# First prompt template\n",
        "first_prompt = PromptTemplate(\n",
        "    input_variables=[\"topic\"],\n",
        "    template=\"Write a short introduction about {topic}.\"\n",
        ")\n",
        "\n",
        "# Second prompt template\n",
        "second_prompt = PromptTemplate(\n",
        "    input_variables=[\"introduction\"],\n",
        "    template=\"Based on this introduction, suggest 3 key points to expand upon: {introduction}\"\n",
        ")\n",
        "\n",
        "# Third prompt template\n",
        "third_prompt = PromptTemplate(\n",
        "    input_variables=[\"key_points\"],\n",
        "    template=\"For each of these key points, provide a brief explanation: {key_points}\"\n",
        ")\n",
        "\n",
        "# Create chains\n",
        "chain_one = LLMChain(llm=llm, prompt=first_prompt)\n",
        "chain_two = LLMChain(llm=llm, prompt=second_prompt)\n",
        "chain_three = LLMChain(llm=llm, prompt=third_prompt)\n",
        "\n",
        "# Create the sequential chain\n",
        "overall_chain = SimpleSequentialChain(\n",
        "    chains=[chain_one, chain_two, chain_three],\n",
        "    verbose=True\n",
        ")\n",
        "\n",
        "# Run the chain\n",
        "topic = \"Artificial Intelligence\"\n",
        "result = overall_chain.run(topic)\n",
        "\n",
        "print(result)"
      ],
      "metadata": {
        "colab": {
          "base_uri": "https://localhost:8080/"
        },
        "id": "a0kD4vh37vmn",
        "outputId": "017938a1-9344-4808-9bb0-34e385289a54"
      },
      "execution_count": 4,
      "outputs": [
        {
          "output_type": "stream",
          "name": "stdout",
          "text": [
            "\n",
            "\n",
            "\u001b[1m> Entering new SimpleSequentialChain chain...\u001b[0m\n",
            "\u001b[36;1m\u001b[1;3mArtificial Intelligence (AI) is a branch of computer science that focuses on creating intelligent machines that can think and learn like humans. The goal of AI is to enable machines to perform tasks that would normally require human intelligence, such as understanding natural language, recognizing patterns, solving problems, and making decisions. AI can be categorized into two main types: Narrow AI, which is designed to perform a specific task, and General AI, which has the ability to perform any intellectual task that a human being can do. AI has the potential to revolutionize various industries, including healthcare, finance, transportation, and education, by automating processes, improving efficiency, and providing new insights through data analysis. However, it also raises ethical and societal concerns, such as job displacement, privacy, and bias.\u001b[0m\n",
            "\u001b[33;1m\u001b[1;3m1. **Narrow AI vs. General AI:** It's important to understand the distinction between Narrow AI and General AI, as they have different capabilities and implications. Narrow AI, also known as Weak AI, is designed to perform a specific task, such as voice recognition or image analysis. These systems excel in their designated tasks but lack the ability to transfer knowledge to other domains. On the other hand, General AI, or Strong AI, can perform any intellectual task that a human being can do, including understanding, learning, and applying knowledge across various disciplines. Currently, only Narrow AI exists, while General AI remains a topic of ongoing research and debate.\n",
            "\n",
            "2. **AI's Impact on Industries:** Artificial Intelligence has the potential to significantly impact various industries, leading to increased efficiency, automation, and data-driven insights. In healthcare, AI can assist in diagnosing diseases, predicting patient outcomes, and personalizing treatment plans. In finance, AI can help in fraud detection, risk management, and algorithmic trading. In transportation, AI can enable autonomous vehicles, optimize traffic flow, and improve safety. In education, AI can provide personalized learning experiences, identify learning gaps, and assist in grading and assessment. However, it's crucial to approach AI implementation thoughtfully, considering potential challenges such as job displacement, workforce retraining, and ensuring a human-centered approach.\n",
            "\n",
            "3. **Ethical and Societal Concerns:** As AI continues to advance, it raises several ethical and societal concerns that must be addressed. Job displacement is a significant issue, as AI has the potential to automate various tasks, potentially leading to job losses. Ensuring workforce retraining and supporting those affected by automation is crucial. Privacy is another concern, as AI systems often require large amounts of data, which can lead to potential breaches or misuse. Bias in AI systems is also a pressing issue, as algorithms can unintentionally perpetuate or amplify existing biases present in training data. Addressing these concerns requires a multidisciplinary approach involving experts in AI, ethics, law, and social sciences to develop guidelines, regulations, and best practices for AI development and deployment.\u001b[0m\n",
            "\u001b[38;5;200m\u001b[1;3m1. **AI in Research and Daily Life:** Artificial Intelligence plays a significant role in both research and daily life. In research, AI can help analyze large datasets, identify patterns, and make predictions, accelerating discoveries across various fields such as physics, climate science, and biology. In daily life, AI is integrated into numerous applications, including virtual personal assistants, recommendation systems, and autonomous devices. While AI can enhance convenience and efficiency, it's essential to consider factors like user experience, accessibility, and potential unintended consequences.\n",
            "\n",
            "2. **AI and Data Security:** Artificial Intelligence heavily relies on data for training and functioning, making data security a critical aspect of AI development and deployment. Protecting sensitive information from unauthorized access, ensuring secure data storage and transmission, and implementing robust encryption methods are all crucial in maintaining data privacy and security. Moreover, AI systems themselves can be vulnerable to attacks, such as adversarial attacks that intentionally manipulate input data to mislead AI models. Developing secure AI systems requires continuous monitoring, updating, and adapting to emerging threats and vulnerabilities.\n",
            "\n",
            "3. **AI and the Environment:** Artificial Intelligence has the potential to contribute positively to environmental sustainability efforts. For instance, AI can optimize energy consumption, monitor and predict environmental changes, and assist in managing natural resources. However, AI can also have negative environmental impacts. The energy consumption required to train large AI models can be substantial, contributing to carbon emissions. Moreover, the production and disposal of AI hardware can lead to electronic waste. Balancing AI's potential benefits and drawbacks in environmental contexts requires careful planning, resource management, and the development of energy-efficient AI technologies.\u001b[0m\n",
            "\n",
            "\u001b[1m> Finished chain.\u001b[0m\n",
            "1. **AI in Research and Daily Life:** Artificial Intelligence plays a significant role in both research and daily life. In research, AI can help analyze large datasets, identify patterns, and make predictions, accelerating discoveries across various fields such as physics, climate science, and biology. In daily life, AI is integrated into numerous applications, including virtual personal assistants, recommendation systems, and autonomous devices. While AI can enhance convenience and efficiency, it's essential to consider factors like user experience, accessibility, and potential unintended consequences.\n",
            "\n",
            "2. **AI and Data Security:** Artificial Intelligence heavily relies on data for training and functioning, making data security a critical aspect of AI development and deployment. Protecting sensitive information from unauthorized access, ensuring secure data storage and transmission, and implementing robust encryption methods are all crucial in maintaining data privacy and security. Moreover, AI systems themselves can be vulnerable to attacks, such as adversarial attacks that intentionally manipulate input data to mislead AI models. Developing secure AI systems requires continuous monitoring, updating, and adapting to emerging threats and vulnerabilities.\n",
            "\n",
            "3. **AI and the Environment:** Artificial Intelligence has the potential to contribute positively to environmental sustainability efforts. For instance, AI can optimize energy consumption, monitor and predict environmental changes, and assist in managing natural resources. However, AI can also have negative environmental impacts. The energy consumption required to train large AI models can be substantial, contributing to carbon emissions. Moreover, the production and disposal of AI hardware can lead to electronic waste. Balancing AI's potential benefits and drawbacks in environmental contexts requires careful planning, resource management, and the development of energy-efficient AI technologies.\n"
          ]
        }
      ]
    },
    {
      "cell_type": "markdown",
      "source": [
        "## Tree Of Thought Prompting\n",
        "\n"
      ],
      "metadata": {
        "id": "OCW7YMKH9YJ7"
      }
    },
    {
      "cell_type": "markdown",
      "source": [
        "This example demonstrates Tree of Thought Prompting using LangChain. It uses a few-shot learning approach to teach the model how to break down problems into steps. The key components are:\n",
        "\n",
        "1. A base prompt template that encourages step-by-step thinking.\n",
        "2. Examples of breaking down different types of questions.\n",
        "3. A few-shot prompt template that combines the examples with the base prompt.\n",
        "\n",
        "The model is then asked to approach a new question using this learned pattern of thought."
      ],
      "metadata": {
        "id": "q5rcV13a90di"
      }
    },
    {
      "cell_type": "code",
      "execution_count": 5,
      "metadata": {
        "colab": {
          "base_uri": "https://localhost:8080/"
        },
        "id": "7pkfO0ZW7rSj",
        "outputId": "f3ff96ab-9d51-42a3-d1b1-10fdd29099b9"
      },
      "outputs": [
        {
          "output_type": "stream",
          "name": "stdout",
          "text": [
            "To find the average speed of the train, we need to divide the total distance traveled by the time it took.\n",
            "\n",
            "1) The train traveled 120 km.\n",
            "2) It took 2 hours to travel this distance.\n",
            "3) So, we divide 120 by 2.\n",
            "4) 120 / 2 = 60.\n",
            "\n",
            "The final answer is that the train's average speed is 60 km/h.\n"
          ]
        }
      ],
      "source": [
        "from langchain import PromptTemplate, LLMChain\n",
        "from langchain.prompts import FewShotPromptTemplate\n",
        "\n",
        "# Define the base prompt template\n",
        "base_prompt = PromptTemplate(\n",
        "    input_variables=[\"question\", \"thoughts\"],\n",
        "    template=\"\"\"Question: {question}\n",
        "\n",
        "Let's approach this step-by-step:\n",
        "\n",
        "{thoughts}\n",
        "\n",
        "Based on these thoughts, what is the final answer?\n",
        "\"\"\"\n",
        ")\n",
        "\n",
        "# Define examples for few-shot learning\n",
        "examples = [\n",
        "    {\n",
        "        \"question\": \"What is 15 + 27?\",\n",
        "        \"thoughts\": \"\"\"1) First, let's break down the numbers: 15 is 10 + 5, and 27 is 20 + 7.\n",
        "2) We can rearrange these: (10 + 20) + (5 + 7)\n",
        "3) 10 + 20 = 30\n",
        "4) 5 + 7 = 12\n",
        "5) So now we have 30 + 12\n",
        "6) 30 + 12 = 42\"\"\"\n",
        "    },\n",
        "    {\n",
        "        \"question\": \"How many months have 28 days?\",\n",
        "        \"thoughts\": \"\"\"1) Let's think about this carefully. At first, we might think only February has 28 days.\n",
        "2) However, the question is asking how many months HAVE 28 days, not how many ONLY have 28 days.\n",
        "3) Every month has at least 28 days.\n",
        "4) Therefore, all 12 months have at least 28 days.\"\"\"\n",
        "    }\n",
        "]\n",
        "\n",
        "# Create the few-shot prompt template\n",
        "few_shot_prompt = FewShotPromptTemplate(\n",
        "    examples=examples,\n",
        "    example_prompt=PromptTemplate(\n",
        "        input_variables=[\"question\", \"thoughts\"],\n",
        "        template=\"Question: {question}\\n\\nThoughts: {thoughts}\"\n",
        "    ),\n",
        "    prefix=\"Here are some examples of breaking down questions into steps:\",\n",
        "    suffix=\"Now, let's approach a new question:\\n\\n{input}\",\n",
        "    input_variables=[\"input\"],\n",
        "    example_separator=\"\\n\\n\"\n",
        ")\n",
        "\n",
        "# Combine the few-shot examples with the base prompt\n",
        "chain = LLMChain(\n",
        "    llm=llm,\n",
        "    prompt=PromptTemplate(\n",
        "        input_variables=[\"input\"],\n",
        "        template=few_shot_prompt.format(input=base_prompt.format(question=\"{question}\", thoughts=\"{thoughts}\"))\n",
        "    )\n",
        ")\n",
        "\n",
        "# Use the chain\n",
        "question = \"If a train travels 120 km in 2 hours, what is its average speed in km/h?\"\n",
        "result = chain.run(question=question, thoughts=\"Let's break this down step by step:\")\n",
        "\n",
        "print(result)"
      ]
    }
  ]
}